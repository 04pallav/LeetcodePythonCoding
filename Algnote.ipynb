{
 "cells": [
  {
   "cell_type": "code",
   "execution_count": null,
   "metadata": {
    "collapsed": true
   },
   "outputs": [],
   "source": [
    "###################################################################485. Max Consecutive Ones\n",
    "\n",
    "class Solution(object):\n",
    "    def findMaxConsecutiveOnes(self, nums):\n",
    "        \"\"\"\n",
    "        :type nums: List[int]\n",
    "        :rtype: int\n",
    "        \"\"\"\n",
    "        i=0\n",
    "        count=globalCount=0\n",
    "        while i < len(nums):\n",
    "            if nums[i]==1:\n",
    "                count+=1\n",
    "            else:\n",
    "                count=0\n",
    "            globalCount=max(count,globalCount)\n",
    "            i+=1\n",
    "        return globalCount"
   ]
  },
  {
   "cell_type": "code",
   "execution_count": null,
   "metadata": {
    "collapsed": true
   },
   "outputs": [],
   "source": [
    "##########################################################   7. Reverse Integer\n",
    "class Solution(object):\n",
    "    def reverse(self, x):\n",
    "        \"\"\"\n",
    "        :type x: int\n",
    "        :rtype: int\n",
    "        \"\"\"\n",
    "        \n",
    "        x=str(x)\n",
    "        if x[0]=='-':\n",
    "            ans= int(x[1:][::-1])*-1\n",
    "        else:\n",
    "            ans= int(x[::-1])\n",
    "        \n",
    "        if abs(ans)> (2**31)-1:\n",
    "            return 0\n",
    "        else:\n",
    "            return ans"
   ]
  },
  {
   "cell_type": "code",
   "execution_count": null,
   "metadata": {
    "collapsed": true
   },
   "outputs": [],
   "source": [
    "###################################################### 118. Pascal's Triangle or II same\n",
    "\n",
    "class Solution(object):\n",
    "    def generate(self, numRows):\n",
    "        \"\"\"\n",
    "        :type numRows: int\n",
    "        :rtype: List[List[int]]\n",
    "        \"\"\"\n",
    "        ans=[]\n",
    "        \n",
    "        for i in range(numRows):\n",
    "            list=[]                            \n",
    "            for j in range(i+1):\n",
    "                if j==0 or j==i:\n",
    "                    list.append(1)\n",
    "                else:\n",
    "                    list.append(ans[i-1][j-1]+ans[i-1][j])\n",
    "            ans.append(list)\n",
    "        return ans\n",
    "\n",
    "###mistakes 1. tried to add elements to empty list using i and j \n",
    "            2. initialized list to empty within the loop\n",
    "            3. forgot that even after if the next line runs ################ Making this mistake again n again\n",
    "            4. forgot to append list to ans at the end"
   ]
  },
  {
   "cell_type": "code",
   "execution_count": null,
   "metadata": {
    "collapsed": true
   },
   "outputs": [],
   "source": [
    "########################################## 9. Palindrome Number\n",
    "\n",
    "class Solution(object):\n",
    "    def isPalindrome(self, x):\n",
    "        \"\"\"\n",
    "        :type x: int\n",
    "        :rtype: bool\n",
    "        \"\"\"\n",
    "        if abs(x)> 2**31-1:\n",
    "            return False\n",
    "        if str(x)[0]=='-':\n",
    "            return False\n",
    "        return str(x)[::-1]==str(x)\n",
    "    \n",
    "########################################## Kind of cheating because converting to string \n",
    "########################################## What is the actual solution?\n"
   ]
  },
  {
   "cell_type": "code",
   "execution_count": 7,
   "metadata": {
    "collapsed": true
   },
   "outputs": [],
   "source": [
    "######################################### Check if a no is PRIME\n",
    "\n",
    "####         1. To check for prime start iterating from 2 to square root of that number\n",
    "class Solution:\n",
    "    # @param A : integer\n",
    "    # @return an integer\n",
    "    def isPrime(self, A):\n",
    "        if A==1:\n",
    "            return 0            ######### edge case\n",
    "        upperLimit = int(A**0.5)\n",
    "        for i in xrange(2, upperLimit + 1):\n",
    "            if A % i == 0:\n",
    "                return 0\n",
    "        return 1"
   ]
  },
  {
   "cell_type": "code",
   "execution_count": null,
   "metadata": {
    "collapsed": true
   },
   "outputs": [],
   "source": [
    "####################################### Count Primes\n",
    "\n",
    "We can use isPrime from above O(n2) or O(nsqrt(n))\n",
    "\n",
    "########## Sieve of Eratosthenes\n",
    "         LOGIC ::: Declare all numbers from 2 to n as prime as 1 is not prime\n",
    "        Now start from 2 and except 2 all multiples of 2 are not prime\n",
    "        then move to 3 iterate over the array\n",
    "        \n",
    "################## will come back\n",
    "        "
   ]
  },
  {
   "cell_type": "code",
   "execution_count": 8,
   "metadata": {
    "collapsed": true
   },
   "outputs": [],
   "source": [
    "#####################################231. Power of Two\n",
    "####### RECURSIVE\n",
    "\n",
    "class Solution(object):\n",
    "    def isPowerOfTwo(self, n):\n",
    "        \"\"\"\n",
    "        :type n: int\n",
    "        :rtype: bool\n",
    "        \"\"\"\n",
    "        if n==0:\n",
    "            return False   ######## edge case\n",
    "        if n==1:\n",
    "            return True    ####base case\n",
    "        if n%2 !=0:\n",
    "            return False    ### base case\n",
    "        return self.isPowerOfTwo(n/2)   ###simple recursive solution\n",
    "                                        ###using return in front of recursion to carry results back \n",
    "    \n",
    "######   BIT MANIPULATION\n",
    "        ###this also next time\n",
    "\n",
    "######  ITERATIVE using while loop\n",
    "        ##try this next time\n",
    "\n",
    "##### \n",
    "#############################################"
   ]
  },
  {
   "cell_type": "code",
   "execution_count": null,
   "metadata": {
    "collapsed": true
   },
   "outputs": [],
   "source": [
    "###################326. Power of Three\n",
    "\n",
    "##Very easy and similar using recursion or while(iteration) #just as above\n"
   ]
  },
  {
   "cell_type": "code",
   "execution_count": 1,
   "metadata": {
    "collapsed": true
   },
   "outputs": [],
   "source": [
    "##########################    Finding all factors of a number    IB\n",
    "# start from 1 and check only till sqrt of the number \n",
    "\n",
    "# if both numbers are same add only one and not both \n",
    "##########################\n",
    "class Solution:\n",
    "    # @param A : integer\n",
    "    # @return a list of integers\n",
    "    def allFactors(self, A):\n",
    "        list=[]\n",
    "        for i in range(1,int(math.sqrt(A))+1):\n",
    "            if A%i==0:\n",
    "                if A/i!=i:\n",
    "                    list.append(i)\n",
    "                    list.append(A/i)\n",
    "                else:\n",
    "                    list.append(i)\n",
    "        return sorted(list)"
   ]
  },
  {
   "cell_type": "code",
   "execution_count": null,
   "metadata": {
    "collapsed": true
   },
   "outputs": [],
   "source": [
    "################################### Binary representation of a number    IB\n",
    "\n",
    "##### Decimal to binary\n",
    "\n",
    "#### Basically in base 10 system we divide by 10 each time and place the remainders one by one.\n",
    "#### so in binary system base is 2 so we will divide by 2 each time and just concatenate the remainders.\n",
    "\n",
    "class Solution:\n",
    "    # @param A : integer\n",
    "    # @return a strings\n",
    "    def findDigitsInBinary(self, A):\n",
    "        \n",
    "        if A==0:\n",
    "            return 0          ##### edge case\n",
    "        list=''\n",
    "        while A>0:\n",
    "            list += str(A%2)\n",
    "            A=A/2\n",
    "        return list[::-1]\n"
   ]
  },
  {
   "cell_type": "code",
   "execution_count": null,
   "metadata": {
    "collapsed": true
   },
   "outputs": [],
   "source": [
    "#################################### Binary representation  by taking carry\n",
    "\n",
    "class Solution(object):\n",
    "    def addBinary(self, a, b):\n",
    "        \"\"\"\n",
    "        :type a: str\n",
    "        :type b: str\n",
    "        :rtype: str\n",
    "        \"\"\"\n",
    "\n",
    "        a = a[::-1]  ###inverted both\n",
    "        b = b[::-1]\n",
    "        if len(b)>len(a):\n",
    "            pass\n",
    "        else:\n",
    "            a,b=b,a\n",
    "        c = [5] * len(b)\n",
    "        carry = 0\n",
    "        for i in range(len(b)):\n",
    "            if i < len(a) and i < len(b):\n",
    "                if carry + int(a[i]) + int(b[i]) == 2:\n",
    "                    c[i] = \"0\"\n",
    "                    carry = 1\n",
    "                elif carry + int(a[i]) + int(b[i]) == 0:\n",
    "                    c[i] = \"0\"\n",
    "                    carry = 0\n",
    "                elif carry + int(a[i]) + int(b[i]) == 1:\n",
    "                    c[i] = \"1\"\n",
    "                    carry = 0\n",
    "                elif carry + int(a[i]) + int(b[i]) == 3:\n",
    "                    c[i]=\"1\"\n",
    "                    carry=1\n",
    "            elif i >= len(a) and i < len(b):\n",
    "                if carry + int(b[i]) == 2:\n",
    "                    c[i] = \"0\"\n",
    "                    carry = 1\n",
    "                elif carry + int(b[i]) == 0:\n",
    "                    c[i] = \"0\"\n",
    "                    carry = 0\n",
    "                elif carry + int(b[i]) == 1:\n",
    "                    c[i] = \"1\"\n",
    "                    carry = 0\n",
    "                elif carry + int(b[i]) == 3:\n",
    "                    c[i]=\"1\"\n",
    "                    carry=1\n",
    "\n",
    "        if carry==0:\n",
    "            ans= ''.join(c)\n",
    "        else:\n",
    "            ans= ''.join(c)+str(carry)\n",
    "        ans=ans[::-1]\n",
    "        return ans\n",
    "    \n",
    "    \n",
    "    ###############################################################  converting to Int and then back to binary\n",
    "    \n",
    "    ############################################################### I think this one is much easier\n",
    "    class Solution(object):\n",
    "    def addBinary(self, a, b):\n",
    "        \"\"\"\n",
    "        :type a: str\n",
    "        :type b: str\n",
    "        :rtype: str\n",
    "        \"\"\"\n",
    "        def convertBinary(x):\n",
    "            x=x[::-1]\n",
    "            sum=0\n",
    "            for i in range(len(x)):\n",
    "                sum+= int(x[i])*(2**i)\n",
    "            print sum\n",
    "            return sum\n",
    "        \n",
    "        def IntToBinary(x):\n",
    "            if x==0:\n",
    "                return \"0\"\n",
    "            ans=''\n",
    "            while x>0:\n",
    "                ans+=str(x%2)\n",
    "                x=x/2\n",
    "            ans=ans[::-1]\n",
    "            print ans\n",
    "            return ans\n",
    "        \n",
    "        return IntToBinary(convertBinary(a)+convertBinary(b))\n",
    "            "
   ]
  },
  {
   "cell_type": "code",
   "execution_count": null,
   "metadata": {
    "collapsed": true
   },
   "outputs": [],
   "source": [
    "#######################################151. Reverse Words in a String\n",
    "\n",
    "##### main issue is dealing with multiple spaces\n",
    "class Solution(object):\n",
    "    def reverseWords(self, s):\n",
    "        \"\"\"\n",
    "        :type s: str\n",
    "        :rtype: str\n",
    "        \"\"\"\n",
    "        A=s\n",
    "        A=A.split(\" \")\n",
    "        A=A[::-1]\n",
    "        B=[]\n",
    "        for i in A:\n",
    "            if len(i)>0:\n",
    "                B.append(i)\n",
    "        return ' '.join(B)"
   ]
  },
  {
   "cell_type": "code",
   "execution_count": null,
   "metadata": {
    "collapsed": true
   },
   "outputs": [],
   "source": [
    "#############################################################468. Validate IP Address\n",
    "\n",
    "\n",
    "class Solution(object):\n",
    "    def validIPAddress(self, IP):\n",
    "        \"\"\"\n",
    "        :type IP: str\n",
    "        :rtype: str\n",
    "        \"\"\"\n",
    "        def isNumber(s):\n",
    "            try :\n",
    "                int(s)\n",
    "                return True\n",
    "            except ValueError:\n",
    "                return False                     ####Note and remember syntax for try except\n",
    "        \n",
    "        def isHexa(s):\n",
    "            if len(s)==0:\n",
    "                return False                    ####edge case\n",
    "            for i in s:\n",
    "                if i.upper() not in \"0123456789ABCDEF\":\n",
    "                    return False\n",
    "            return True\n",
    "        \n",
    "        a=IP.split('.')\n",
    "        b=IP.split(':')\n",
    "        \n",
    "        if len(a)==4:\n",
    "            counter=1\n",
    "            for i in a:\n",
    "                if not isNumber(i) or int(i)<0 or int(i)>255 or len(i)!=len(str(int(i))):\n",
    "                    counter=0\n",
    "            if counter==1:\n",
    "                return \"IPv4\"\n",
    "        \n",
    "        if len(b)==8:\n",
    "            counter2=1\n",
    "            for i in b:\n",
    "                if not isHexa(i) or len(i)>4:\n",
    "                    counter2=0\n",
    "            if counter2==1:\n",
    "                return \"IPv6\"\n",
    "\n",
    "        return \"Neither\"    "
   ]
  },
  {
   "cell_type": "code",
   "execution_count": null,
   "metadata": {
    "collapsed": true
   },
   "outputs": [],
   "source": [
    "########################################93. Restore IP Addresses\n",
    "\n"
   ]
  },
  {
   "cell_type": "code",
   "execution_count": 1,
   "metadata": {
    "collapsed": true
   },
   "outputs": [],
   "source": [
    "####################################### 165. Compare Version Numbers\n",
    "\n",
    "class Solution(object):\n",
    "    def compareVersion(self, version1, version2):\n",
    "        \"\"\"\n",
    "        :type version1: str\n",
    "        :type version2: str\n",
    "        :rtype: int\n",
    "        \"\"\"\n",
    "        v1=version1.split(\".\")\n",
    "        v2=version2.split(\".\")\n",
    "        #print v1\n",
    "\n",
    "        if len(v1)>len(v2):\n",
    "            v2=v2+[\"0\"]*(len(v1)-len(v2))         ##never use if else\n",
    "                                                  # use if and elif\n",
    "        elif len(v2)>len(v1):                   # its a good idea to add extra zeros when you need\n",
    "            v1=v1+[\"0\"]*(len(v2)-len(v1))\n",
    "        #print v1\n",
    "        #print v2\n",
    "        \n",
    "        i=0\n",
    "        while i<len(v1):\n",
    "            if int(v1[i])>int(v2[i]):\n",
    "                return 1\n",
    "            elif int(v2[i])>int(v1[i]):\n",
    "                return -1\n",
    "            i+=1\n",
    "        return 0"
   ]
  },
  {
   "cell_type": "code",
   "execution_count": null,
   "metadata": {
    "collapsed": true
   },
   "outputs": [],
   "source": [
    "################43. Multiply Strings\n",
    "\n",
    "class Solution(object):\n",
    "    def multiply(self, num1, num2):\n",
    "        \"\"\"\n",
    "        :type num1: str\n",
    "        :type num2: str\n",
    "        :rtype: str\n",
    "        \"\"\"\n",
    "        return str(int(num1)*int(num2))\n",
    "    \n",
    "############# Try doing it one digit at a time next time"
   ]
  },
  {
   "cell_type": "code",
   "execution_count": null,
   "metadata": {
    "collapsed": true
   },
   "outputs": [],
   "source": [
    "############################ 8. String to Integer (atoi)\n",
    "\n",
    "   Cases \n",
    "    1. should ignore whitespaces\n",
    "    2. should include + and negative cases\n",
    "    3. "
   ]
  }
 ],
 "metadata": {
  "kernelspec": {
   "display_name": "Python 2",
   "language": "python",
   "name": "python2"
  },
  "language_info": {
   "codemirror_mode": {
    "name": "ipython",
    "version": 2
   },
   "file_extension": ".py",
   "mimetype": "text/x-python",
   "name": "python",
   "nbconvert_exporter": "python",
   "pygments_lexer": "ipython2",
   "version": "2.7.13"
  }
 },
 "nbformat": 4,
 "nbformat_minor": 2
}
